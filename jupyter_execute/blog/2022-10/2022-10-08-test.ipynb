{
 "cells": [
  {
   "cell_type": "code",
   "execution_count": 1,
   "id": "075d5e2e",
   "metadata": {
    "execution": {
     "iopub.execute_input": "2022-10-07T18:07:51.817212Z",
     "iopub.status.busy": "2022-10-07T18:07:51.816781Z",
     "iopub.status.idle": "2022-10-07T18:07:51.826862Z",
     "shell.execute_reply": "2022-10-07T18:07:51.826071Z"
    }
   },
   "outputs": [
    {
     "name": "stdout",
     "output_type": "stream",
     "text": [
      "word\n"
     ]
    }
   ],
   "source": [
    "name='word'\n",
    "print(name)"
   ]
  }
 ],
 "metadata": {
  "kernelspec": {
   "display_name": "Python 3 (ipykernel)",
   "language": "python",
   "name": "python3"
  },
  "language_info": {
   "codemirror_mode": {
    "name": "ipython",
    "version": 3
   },
   "file_extension": ".py",
   "mimetype": "text/x-python",
   "name": "python",
   "nbconvert_exporter": "python",
   "pygments_lexer": "ipython3",
   "version": "3.9.14"
  }
 },
 "nbformat": 4,
 "nbformat_minor": 5
}