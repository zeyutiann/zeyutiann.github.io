{
 "cells": [
  {
   "cell_type": "code",
   "execution_count": 1,
   "id": "34e1277a",
   "metadata": {
    "execution": {
     "iopub.execute_input": "2022-10-29T09:29:57.151693Z",
     "iopub.status.busy": "2022-10-29T09:29:57.151278Z",
     "iopub.status.idle": "2022-10-29T09:29:57.161107Z",
     "shell.execute_reply": "2022-10-29T09:29:57.160107Z"
    }
   },
   "outputs": [
    {
     "name": "stdout",
     "output_type": "stream",
     "text": [
      "hello world!\n"
     ]
    }
   ],
   "source": [
    "name = 'world'\n",
    "print('hello ' + name + '!')"
   ]
  }
 ],
 "metadata": {
  "kernelspec": {
   "display_name": "Python 3 (ipykernel)",
   "language": "python",
   "name": "python3"
  },
  "language_info": {
   "codemirror_mode": {
    "name": "ipython",
    "version": 3
   },
   "file_extension": ".py",
   "mimetype": "text/x-python",
   "name": "python",
   "nbconvert_exporter": "python",
   "pygments_lexer": "ipython3",
   "version": "3.9.14"
  }
 },
 "nbformat": 4,
 "nbformat_minor": 5
}